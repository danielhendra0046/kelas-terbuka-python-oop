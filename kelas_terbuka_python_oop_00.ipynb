{
  "cells": [
    {
      "cell_type": "markdown",
      "metadata": {
        "colab_type": "text",
        "id": "view-in-github"
      },
      "source": [
        "<a href=\"https://colab.research.google.com/github/danielhendra0046/kelas-terbuka-python-oop/blob/main/kelas_terbuka_python_oop_00.ipynb\" target=\"_parent\"><img src=\"https://colab.research.google.com/assets/colab-badge.svg\" alt=\"Open In Colab\"/></a>"
      ]
    },
    {
      "cell_type": "markdown",
      "metadata": {},
      "source": [
        "# 12 NOVEMBER 2023"
      ]
    },
    {
      "cell_type": "markdown",
      "metadata": {},
      "source": [
        "## Pengenalan OOP"
      ]
    },
    {
      "cell_type": "code",
      "execution_count": 3,
      "metadata": {
        "colab": {
          "base_uri": "https://localhost:8080/"
        },
        "id": "Vi7oS0pjhT-R",
        "outputId": "f479268d-4bf2-469a-b604-bb154da2b2b3"
      },
      "outputs": [
        {
          "name": "stdout",
          "output_type": "stream",
          "text": [
            "<__main__.Hero object at 0x104ff80d0>\n",
            "{'name': 'sniper', 'health': 100}\n",
            "sniper\n"
          ]
        }
      ],
      "source": [
        "class Hero: # template\n",
        "    pass\n",
        "\n",
        "\n",
        "hero1 = Hero() # object / instance\n",
        "hero2 = Hero()\n",
        "hero3 = Hero()\n",
        "\n",
        "hero1.name = \"sniper\"\n",
        "hero1.health = 100\n",
        "\n",
        "hero2.name = \"sven\"\n",
        "hero2.health = 200\n",
        "\n",
        "hero3.name = \"ucup\"\n",
        "hero3.health = 1000\n",
        "\n",
        "print(hero1)\n",
        "print(hero1.__dict__)\n",
        "print(hero1.name)"
      ]
    },
    {
      "cell_type": "code",
      "execution_count": 14,
      "metadata": {},
      "outputs": [
        {
          "name": "stdout",
          "output_type": "stream",
          "text": [
            "sniper\n",
            "100\n",
            "0\n"
          ]
        }
      ],
      "source": [
        "# ini adalah contoh penggunaan magic keyword di python\n",
        "\n",
        "class Hero: # template\n",
        "    def __init__(self, inputName, inputHealth, inputPower, inputArmor):\n",
        "        self.name = inputName\n",
        "        self.health = inputHealth\n",
        "        self.power = inputPower\n",
        "        self.armor = inputArmor\n",
        "\n",
        "hero1 = Hero(\"sniper\", 100, 10, 4)\n",
        "hero2 = Hero(\"mirana\", 100, 15, 1)\n",
        "hero3 = Hero(\"ucup\", 1000, 100, 0)\n",
        "\n",
        "print(hero1.name)\n",
        "print(hero2.health)\n",
        "print(hero3.armor)"
      ]
    },
    {
      "cell_type": "markdown",
      "metadata": {},
      "source": [
        "# 13 NOVEMBER 2023"
      ]
    },
    {
      "cell_type": "markdown",
      "metadata": {},
      "source": [
        "## OOP Lanjutan"
      ]
    },
    {
      "cell_type": "code",
      "execution_count": 17,
      "metadata": {},
      "outputs": [
        {
          "name": "stdout",
          "output_type": "stream",
          "text": [
            "Membuat Hero dengan nama sniper\n",
            "1\n",
            "Membuat Hero dengan nama mirana\n",
            "2\n",
            "Membuat Hero dengan nama ucup\n",
            "3\n"
          ]
        }
      ],
      "source": [
        "# class variable dan instance variable\n",
        "\n",
        "class Hero: # template\n",
        "    # class variable\n",
        "    jumlah = 0\n",
        "\n",
        "    def __init__(self, inputName, inputHealth, inputPower, inputArmor):\n",
        "        # instance variable\n",
        "        self.name = inputName\n",
        "        self.health = inputHealth\n",
        "        self.power = inputPower\n",
        "        self.armor = inputArmor\n",
        "        Hero.jumlah += 1\n",
        "        print(\"Membuat Hero dengan nama \" + inputName)\n",
        "\n",
        "hero1 = Hero(\"sniper\", 100, 10, 4)\n",
        "print(Hero.jumlah)\n",
        "hero2 = Hero(\"mirana\", 100, 15, 1)\n",
        "print(Hero.jumlah)\n",
        "hero3 = Hero(\"ucup\", 1000, 100, 0)\n",
        "print(Hero.jumlah)"
      ]
    },
    {
      "cell_type": "code",
      "execution_count": 24,
      "metadata": {},
      "outputs": [
        {
          "name": "stdout",
          "output_type": "stream",
          "text": [
            "namaku adalah sniper\n",
            "110\n",
            "110\n"
          ]
        }
      ],
      "source": [
        "# method\n",
        "\n",
        "class Hero:\n",
        "    # class variable\n",
        "    jumlah_hero = 0\n",
        "\n",
        "    def __init__(self, inputName, inputHealth, inputPower, inputArmor):\n",
        "        # instance variabel\n",
        "        self.name = inputName\n",
        "        self.health = inputHealth\n",
        "        self.power = inputPower\n",
        "        self.armor = inputArmor\n",
        "        Hero.jumlah_hero += 1\n",
        "\n",
        "    # void function, method tanpa return, tanpa argumen\n",
        "    def siapa(self):\n",
        "        print(\"namaku adalah \" + self.name)\n",
        "\n",
        "    # method dengan argumen, tanpa return\n",
        "    def healthUp(self, up):\n",
        "        self.health += up\n",
        "\n",
        "    # method dengan return\n",
        "    def getHealth(self):\n",
        "        return self.health\n",
        "\n",
        "hero1 = Hero('sniper', 100, 10, 5)\n",
        "hero2 = Hero('mario bros', 90, 5, 10)\n",
        "\n",
        "hero1.siapa()\n",
        "hero1.healthUp(10)\n",
        "\n",
        "print(hero1.health)\n",
        "print(hero1.getHealth())"
      ]
    },
    {
      "cell_type": "markdown",
      "metadata": {},
      "source": [
        "## Buat Game Sederhana"
      ]
    },
    {
      "cell_type": "markdown",
      "metadata": {},
      "source": [
        "Game sederhana saling serang"
      ]
    },
    {
      "cell_type": "code",
      "execution_count": 26,
      "metadata": {},
      "outputs": [
        {
          "name": "stdout",
          "output_type": "stream",
          "text": [
            "sniper menyerang\n"
          ]
        }
      ],
      "source": [
        "class Hero:\n",
        "\n",
        "    def __init__(self, name, health, attackPower, armorNumber):\n",
        "        self.name = name\n",
        "        self.health = health\n",
        "        self.attackPower = attackPower\n",
        "        self.armorNumber = armorNumber\n",
        "\n",
        "    def serang(self):\n",
        "        print(self.name + ' menyerang')\n",
        "\n",
        "    def diserang(self):\n",
        "        print(self.name + ' diserang')\n",
        "\n",
        "sniper = Hero('sniper',100,10,5)\n",
        "rikimaru = Hero('rikimaru',100,5,10)\n",
        "\n",
        "sniper.serang()"
      ]
    }
  ],
  "metadata": {
    "colab": {
      "authorship_tag": "ABX9TyMyCp1UZ+ArPqx6gedUXOv2",
      "include_colab_link": true,
      "provenance": []
    },
    "kernelspec": {
      "display_name": "Python 3",
      "name": "python3"
    },
    "language_info": {
      "codemirror_mode": {
        "name": "ipython",
        "version": 3
      },
      "file_extension": ".py",
      "mimetype": "text/x-python",
      "name": "python",
      "nbconvert_exporter": "python",
      "pygments_lexer": "ipython3",
      "version": "3.11.6"
    }
  },
  "nbformat": 4,
  "nbformat_minor": 0
}
