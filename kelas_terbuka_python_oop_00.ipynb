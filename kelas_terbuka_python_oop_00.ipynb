{
  "cells": [
    {
      "cell_type": "markdown",
      "metadata": {
        "colab_type": "text",
        "id": "view-in-github"
      },
      "source": [
        "<a href=\"https://colab.research.google.com/github/danielhendra0046/kelas-terbuka-python-oop/blob/main/kelas_terbuka_python_oop_00.ipynb\" target=\"_parent\"><img src=\"https://colab.research.google.com/assets/colab-badge.svg\" alt=\"Open In Colab\"/></a>"
      ]
    },
    {
      "cell_type": "markdown",
      "metadata": {},
      "source": [
        "# 12 NOVEMBER 2023"
      ]
    },
    {
      "cell_type": "markdown",
      "metadata": {},
      "source": [
        "## Pengenalan OOP"
      ]
    },
    {
      "cell_type": "code",
      "execution_count": 3,
      "metadata": {
        "colab": {
          "base_uri": "https://localhost:8080/"
        },
        "id": "Vi7oS0pjhT-R",
        "outputId": "f479268d-4bf2-469a-b604-bb154da2b2b3"
      },
      "outputs": [
        {
          "name": "stdout",
          "output_type": "stream",
          "text": [
            "<__main__.Hero object at 0x104ff80d0>\n",
            "{'name': 'sniper', 'health': 100}\n",
            "sniper\n"
          ]
        }
      ],
      "source": [
        "class Hero: # template\n",
        "    pass\n",
        "\n",
        "\n",
        "hero1 = Hero() # object / instance\n",
        "hero2 = Hero()\n",
        "hero3 = Hero()\n",
        "\n",
        "hero1.name = \"sniper\"\n",
        "hero1.health = 100\n",
        "\n",
        "hero2.name = \"sven\"\n",
        "hero2.health = 200\n",
        "\n",
        "hero3.name = \"ucup\"\n",
        "hero3.health = 1000\n",
        "\n",
        "print(hero1)\n",
        "print(hero1.__dict__)\n",
        "print(hero1.name)"
      ]
    },
    {
      "cell_type": "code",
      "execution_count": 14,
      "metadata": {},
      "outputs": [
        {
          "name": "stdout",
          "output_type": "stream",
          "text": [
            "sniper\n",
            "100\n",
            "0\n"
          ]
        }
      ],
      "source": [
        "# ini adalah contoh penggunaan magic keyword di python\n",
        "\n",
        "class Hero: # template\n",
        "    def __init__(self, inputName, inputHealth, inputPower, inputArmor):\n",
        "        self.name = inputName\n",
        "        self.health = inputHealth\n",
        "        self.power = inputPower\n",
        "        self.armor = inputArmor\n",
        "\n",
        "hero1 = Hero(\"sniper\", 100, 10, 4)\n",
        "hero2 = Hero(\"mirana\", 100, 15, 1)\n",
        "hero3 = Hero(\"ucup\", 1000, 100, 0)\n",
        "\n",
        "print(hero1.name)\n",
        "print(hero2.health)\n",
        "print(hero3.armor)"
      ]
    }
  ],
  "metadata": {
    "colab": {
      "authorship_tag": "ABX9TyMyCp1UZ+ArPqx6gedUXOv2",
      "include_colab_link": true,
      "provenance": []
    },
    "kernelspec": {
      "display_name": "Python 3",
      "name": "python3"
    },
    "language_info": {
      "codemirror_mode": {
        "name": "ipython",
        "version": 3
      },
      "file_extension": ".py",
      "mimetype": "text/x-python",
      "name": "python",
      "nbconvert_exporter": "python",
      "pygments_lexer": "ipython3",
      "version": "3.11.6"
    }
  },
  "nbformat": 4,
  "nbformat_minor": 0
}
