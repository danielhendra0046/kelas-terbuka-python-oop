{
  "cells": [
    {
      "cell_type": "markdown",
      "metadata": {
        "colab_type": "text",
        "id": "view-in-github"
      },
      "source": [
        "<a href=\"https://colab.research.google.com/github/danielhendra0046/kelas-terbuka-python-oop/blob/main/kelas_terbuka_python_oop_00.ipynb\" target=\"_parent\"><img src=\"https://colab.research.google.com/assets/colab-badge.svg\" alt=\"Open In Colab\"/></a>"
      ]
    },
    {
      "cell_type": "markdown",
      "metadata": {},
      "source": [
        "# 12 NOVEMBER 2023"
      ]
    },
    {
      "cell_type": "markdown",
      "metadata": {},
      "source": [
        "## Pengenalan OOP"
      ]
    },
    {
      "cell_type": "code",
      "execution_count": 3,
      "metadata": {
        "colab": {
          "base_uri": "https://localhost:8080/"
        },
        "id": "Vi7oS0pjhT-R",
        "outputId": "f479268d-4bf2-469a-b604-bb154da2b2b3"
      },
      "outputs": [
        {
          "name": "stdout",
          "output_type": "stream",
          "text": [
            "<__main__.Hero object at 0x104ff80d0>\n",
            "{'name': 'sniper', 'health': 100}\n",
            "sniper\n"
          ]
        }
      ],
      "source": [
        "class Hero: # template\n",
        "    pass\n",
        "\n",
        "\n",
        "hero1 = Hero() # object / instance\n",
        "hero2 = Hero()\n",
        "hero3 = Hero()\n",
        "\n",
        "hero1.name = \"sniper\"\n",
        "hero1.health = 100\n",
        "\n",
        "hero2.name = \"sven\"\n",
        "hero2.health = 200\n",
        "\n",
        "hero3.name = \"ucup\"\n",
        "hero3.health = 1000\n",
        "\n",
        "print(hero1)\n",
        "print(hero1.__dict__)\n",
        "print(hero1.name)"
      ]
    },
    {
      "cell_type": "code",
      "execution_count": 14,
      "metadata": {},
      "outputs": [
        {
          "name": "stdout",
          "output_type": "stream",
          "text": [
            "sniper\n",
            "100\n",
            "0\n"
          ]
        }
      ],
      "source": [
        "# ini adalah contoh penggunaan magic keyword di python\n",
        "\n",
        "class Hero: # template\n",
        "    def __init__(self, inputName, inputHealth, inputPower, inputArmor):\n",
        "        self.name = inputName\n",
        "        self.health = inputHealth\n",
        "        self.power = inputPower\n",
        "        self.armor = inputArmor\n",
        "\n",
        "hero1 = Hero(\"sniper\", 100, 10, 4)\n",
        "hero2 = Hero(\"mirana\", 100, 15, 1)\n",
        "hero3 = Hero(\"ucup\", 1000, 100, 0)\n",
        "\n",
        "print(hero1.name)\n",
        "print(hero2.health)\n",
        "print(hero3.armor)"
      ]
    },
    {
      "cell_type": "markdown",
      "metadata": {},
      "source": [
        "# 13 NOVEMBER 2023"
      ]
    },
    {
      "cell_type": "markdown",
      "metadata": {},
      "source": [
        "## OOP Lanjutan"
      ]
    },
    {
      "cell_type": "code",
      "execution_count": 17,
      "metadata": {},
      "outputs": [
        {
          "name": "stdout",
          "output_type": "stream",
          "text": [
            "Membuat Hero dengan nama sniper\n",
            "1\n",
            "Membuat Hero dengan nama mirana\n",
            "2\n",
            "Membuat Hero dengan nama ucup\n",
            "3\n"
          ]
        }
      ],
      "source": [
        "# class variable dan instance variable\n",
        "\n",
        "class Hero: # template\n",
        "    # class variable\n",
        "    jumlah = 0\n",
        "\n",
        "    def __init__(self, inputName, inputHealth, inputPower, inputArmor):\n",
        "        # instance variable\n",
        "        self.name = inputName\n",
        "        self.health = inputHealth\n",
        "        self.power = inputPower\n",
        "        self.armor = inputArmor\n",
        "        Hero.jumlah += 1\n",
        "        print(\"Membuat Hero dengan nama \" + inputName)\n",
        "\n",
        "hero1 = Hero(\"sniper\", 100, 10, 4)\n",
        "print(Hero.jumlah)\n",
        "hero2 = Hero(\"mirana\", 100, 15, 1)\n",
        "print(Hero.jumlah)\n",
        "hero3 = Hero(\"ucup\", 1000, 100, 0)\n",
        "print(Hero.jumlah)"
      ]
    },
    {
      "cell_type": "code",
      "execution_count": 24,
      "metadata": {},
      "outputs": [
        {
          "name": "stdout",
          "output_type": "stream",
          "text": [
            "namaku adalah sniper\n",
            "110\n",
            "110\n"
          ]
        }
      ],
      "source": [
        "# method\n",
        "\n",
        "class Hero:\n",
        "    # class variable\n",
        "    jumlah_hero = 0\n",
        "\n",
        "    def __init__(self, inputName, inputHealth, inputPower, inputArmor):\n",
        "        # instance variabel\n",
        "        self.name = inputName\n",
        "        self.health = inputHealth\n",
        "        self.power = inputPower\n",
        "        self.armor = inputArmor\n",
        "        Hero.jumlah_hero += 1\n",
        "\n",
        "    # void function, method tanpa return, tanpa argumen\n",
        "    def siapa(self):\n",
        "        print(\"namaku adalah \" + self.name)\n",
        "\n",
        "    # method dengan argumen, tanpa return\n",
        "    def healthUp(self, up):\n",
        "        self.health += up\n",
        "\n",
        "    # method dengan return\n",
        "    def getHealth(self):\n",
        "        return self.health\n",
        "\n",
        "hero1 = Hero('sniper', 100, 10, 5)\n",
        "hero2 = Hero('mario bros', 90, 5, 10)\n",
        "\n",
        "hero1.siapa()\n",
        "hero1.healthUp(10)\n",
        "\n",
        "print(hero1.health)\n",
        "print(hero1.getHealth())"
      ]
    },
    {
      "cell_type": "markdown",
      "metadata": {},
      "source": [
        "## Buat Game Sederhana"
      ]
    },
    {
      "cell_type": "markdown",
      "metadata": {},
      "source": [
        "Game sederhana saling serang"
      ]
    },
    {
      "cell_type": "code",
      "execution_count": 38,
      "metadata": {},
      "outputs": [
        {
          "name": "stdout",
          "output_type": "stream",
          "text": [
            "sniper menyerang rikimaru\n",
            "rikimaru diserang sniper\n",
            "serangan terasa: 1.0\n",
            "darah rikimaru tersisa 99.0\n",
            "\n",
            "\n",
            "rikimaru menyerang sniper\n",
            "sniper diserang rikimaru\n",
            "serangan terasa: 4.0\n",
            "darah sniper tersisa 96.0\n"
          ]
        }
      ],
      "source": [
        "class Hero:\n",
        "\n",
        "    def __init__(self, name, health, attackPower, armorNumber):\n",
        "        self.name = name\n",
        "        self.health = health\n",
        "        self.attackPower = attackPower\n",
        "        self.armorNumber = armorNumber\n",
        "\n",
        "    def serang(self, lawan):\n",
        "        print(self.name + ' menyerang ' + lawan.name)\n",
        "        lawan.diserang(self, self.attackPower)\n",
        "\n",
        "    def diserang(self, lawan, attackPower_lawan):\n",
        "        print(self.name + ' diserang ' + lawan.name)\n",
        "        attack_diterima = attackPower_lawan/self.armorNumber\n",
        "        print('serangan terasa: ' + str(attack_diterima))\n",
        "        self.health -= attack_diterima\n",
        "        print('darah ' + self.name + ' tersisa ' + str(self.health))\n",
        "\n",
        "sniper = Hero('sniper',100,10,5)\n",
        "rikimaru = Hero('rikimaru',100,20,10)\n",
        "\n",
        "sniper.serang(rikimaru)\n",
        "print(\"\\n\")\n",
        "rikimaru.serang(sniper)"
      ]
    },
    {
      "cell_type": "markdown",
      "metadata": {},
      "source": [
        "Tentang tkinter"
      ]
    },
    {
      "cell_type": "code",
      "execution_count": 40,
      "metadata": {},
      "outputs": [
        {
          "ename": "ModuleNotFoundError",
          "evalue": "No module named '_tkinter'",
          "output_type": "error",
          "traceback": [
            "\u001b[0;31m---------------------------------------------------------------------------\u001b[0m",
            "\u001b[0;31mModuleNotFoundError\u001b[0m                       Traceback (most recent call last)",
            "\u001b[1;32m/Users/danielhendraandriyanto/Documents/belajar-python/kelas-terbuka-python-oop/kelas_terbuka_python_oop_00.ipynb Cell 14\u001b[0m line \u001b[0;36m1\n\u001b[0;32m----> <a href='vscode-notebook-cell:/Users/danielhendraandriyanto/Documents/belajar-python/kelas-terbuka-python-oop/kelas_terbuka_python_oop_00.ipynb#X16sZmlsZQ%3D%3D?line=0'>1</a>\u001b[0m \u001b[39mimport\u001b[39;00m \u001b[39mtkinter\u001b[39;00m\n\u001b[1;32m      <a href='vscode-notebook-cell:/Users/danielhendraandriyanto/Documents/belajar-python/kelas-terbuka-python-oop/kelas_terbuka_python_oop_00.ipynb#X16sZmlsZQ%3D%3D?line=1'>2</a>\u001b[0m main_window \u001b[39m=\u001b[39m tkinter\u001b[39m.\u001b[39mTk()\n\u001b[1;32m      <a href='vscode-notebook-cell:/Users/danielhendraandriyanto/Documents/belajar-python/kelas-terbuka-python-oop/kelas_terbuka_python_oop_00.ipynb#X16sZmlsZQ%3D%3D?line=3'>4</a>\u001b[0m label1 \u001b[39m=\u001b[39m tkinter\u001b[39m.\u001b[39mLabel(main_window, text \u001b[39m=\u001b[39m \u001b[39m\"\u001b[39m\u001b[39mlabel1\u001b[39m\u001b[39m\"\u001b[39m)\n",
            "File \u001b[0;32m/opt/homebrew/Cellar/python@3.11/3.11.6/Frameworks/Python.framework/Versions/3.11/lib/python3.11/tkinter/__init__.py:38\u001b[0m\n\u001b[1;32m     35\u001b[0m \u001b[39mimport\u001b[39;00m \u001b[39msys\u001b[39;00m\n\u001b[1;32m     36\u001b[0m \u001b[39mimport\u001b[39;00m \u001b[39mtypes\u001b[39;00m\n\u001b[0;32m---> 38\u001b[0m \u001b[39mimport\u001b[39;00m \u001b[39m_tkinter\u001b[39;00m \u001b[39m# If this fails your Python may not be configured for Tk\u001b[39;00m\n\u001b[1;32m     39\u001b[0m TclError \u001b[39m=\u001b[39m _tkinter\u001b[39m.\u001b[39mTclError\n\u001b[1;32m     40\u001b[0m \u001b[39mfrom\u001b[39;00m \u001b[39mtkinter\u001b[39;00m\u001b[39m.\u001b[39;00m\u001b[39mconstants\u001b[39;00m \u001b[39mimport\u001b[39;00m \u001b[39m*\u001b[39m\n",
            "\u001b[0;31mModuleNotFoundError\u001b[0m: No module named '_tkinter'"
          ]
        }
      ],
      "source": [
        "import tkinter\n",
        "main_window = tkinter.Tk()\n",
        "\n",
        "label1 = tkinter.Label(main_window, text = \"label1\")"
      ]
    },
    {
      "cell_type": "markdown",
      "metadata": {},
      "source": [
        "## Private Variable and Enkapsulasi"
      ]
    },
    {
      "cell_type": "code",
      "execution_count": 46,
      "metadata": {},
      "outputs": [
        {
          "name": "stdout",
          "output_type": "stream",
          "text": [
            "{'name': 'Lina', 'health': 100, '_Hero__private': 'private', '_protected': 'protected'}\n",
            "{'__module__': '__main__', 'jumlah': 0, '_Hero__privateJumlah': 0, '__init__': <function Hero.__init__ at 0x10a12af20>, '__dict__': <attribute '__dict__' of 'Hero' objects>, '__weakref__': <attribute '__weakref__' of 'Hero' objects>, '__doc__': None}\n"
          ]
        },
        {
          "ename": "AttributeError",
          "evalue": "type object 'Hero' has no attribute '__privateJumlah'",
          "output_type": "error",
          "traceback": [
            "\u001b[0;31m---------------------------------------------------------------------------\u001b[0m",
            "\u001b[0;31mAttributeError\u001b[0m                            Traceback (most recent call last)",
            "\u001b[1;32m/Users/danielhendraandriyanto/Documents/belajar-python/kelas-terbuka-python-oop/kelas_terbuka_python_oop_00.ipynb Cell 16\u001b[0m line \u001b[0;36m1\n\u001b[1;32m     <a href='vscode-notebook-cell:/Users/danielhendraandriyanto/Documents/belajar-python/kelas-terbuka-python-oop/kelas_terbuka_python_oop_00.ipynb#X21sZmlsZQ%3D%3D?line=15'>16</a>\u001b[0m \u001b[39mprint\u001b[39m(lina\u001b[39m.\u001b[39m\u001b[39m__dict__\u001b[39m)\n\u001b[1;32m     <a href='vscode-notebook-cell:/Users/danielhendraandriyanto/Documents/belajar-python/kelas-terbuka-python-oop/kelas_terbuka_python_oop_00.ipynb#X21sZmlsZQ%3D%3D?line=16'>17</a>\u001b[0m \u001b[39mprint\u001b[39m(Hero\u001b[39m.\u001b[39m\u001b[39m__dict__\u001b[39m)\n\u001b[0;32m---> <a href='vscode-notebook-cell:/Users/danielhendraandriyanto/Documents/belajar-python/kelas-terbuka-python-oop/kelas_terbuka_python_oop_00.ipynb#X21sZmlsZQ%3D%3D?line=17'>18</a>\u001b[0m \u001b[39mprint\u001b[39m(Hero\u001b[39m.\u001b[39;49m__privateJumlah)\n",
            "\u001b[0;31mAttributeError\u001b[0m: type object 'Hero' has no attribute '__privateJumlah'"
          ]
        }
      ],
      "source": [
        "# Private variable\n",
        "\n",
        "class Hero:\n",
        "    jumlah = 0\n",
        "    __privateJumlah = 0\n",
        "\n",
        "    def __init__(self,name,health):\n",
        "        self.name = name\n",
        "        self.health = health\n",
        "\n",
        "        # variabel instance private\n",
        "        self.__private = \"private\"\n",
        "        # variabel instance protected\n",
        "        self._protected = \"protected\"\n",
        "\n",
        "lina = Hero(\"Lina\",100)\n",
        "\n",
        "print(lina.__dict__)\n",
        "print(Hero.__dict__)\n",
        "print(Hero.__privateJumlah)"
      ]
    },
    {
      "cell_type": "code",
      "execution_count": 52,
      "metadata": {},
      "outputs": [
        {
          "name": "stdout",
          "output_type": "stream",
          "text": [
            "{'_Hero__name': 'earthshaker', '_Hero__health': 50, '_Hero__attPower': 5}\n",
            "earthshaker\n",
            "50\n",
            "45\n"
          ]
        }
      ],
      "source": [
        "# Enkapsulasi\n",
        "\n",
        "class Hero:\n",
        "    def __init__(self,name,health,attackPower):\n",
        "        self.__name = name\n",
        "        self.__health = health\n",
        "        self.__attPower = attackPower\n",
        "\n",
        "    # getter\n",
        "    def getName(self):\n",
        "        return self.__name\n",
        "    \n",
        "    def getHealth(self):\n",
        "        return self.__health\n",
        "    \n",
        "    # setter\n",
        "\n",
        "    def diserang(self,serangPower):\n",
        "        self.__health -= serangPower\n",
        "\n",
        "    def setAttPower(self,nilaibaru):\n",
        "        self.__attPower = nilaibaru\n",
        "\n",
        "# awal dari game\n",
        "earthshaker = Hero(\"earthshaker\",50,5)\n",
        "\n",
        "print(earthshaker.__dict__)\n",
        "\n",
        "# game berjalan\n",
        "\n",
        "print(earthshaker.getName())\n",
        "print(earthshaker.getHealth())\n",
        "earthshaker.diserang(5)\n",
        "print(earthshaker.getHealth())\n"
      ]
    },
    {
      "cell_type": "code",
      "execution_count": 61,
      "metadata": {},
      "outputs": [
        {
          "name": "stdout",
          "output_type": "stream",
          "text": [
            "1\n",
            "2\n",
            "3\n"
          ]
        }
      ],
      "source": [
        "# staticmethod dan classmethod\n",
        "\n",
        "class Hero:\n",
        "    __jumlah = 0\n",
        "\n",
        "    def __init__(self,name):\n",
        "        self.__name = name\n",
        "        Hero.__jumlah += 1\n",
        "\n",
        "    # method ini hanya berlaku untuk objek\n",
        "    def getJumlah(self):\n",
        "        return Hero.__jumlah\n",
        "\n",
        "    # method ini tidak berlaku untuk object, tapi berlaku untuk class\n",
        "    def getJumlah1():\n",
        "        return Hero.__jumlah\n",
        "    \n",
        "    # method static (decorator)\n",
        "    @staticmethod\n",
        "    def getJumlah2():\n",
        "        return Hero.__jumlah\n",
        "    \n",
        "    @classmethod\n",
        "    def getJumlah3(cls):\n",
        "        return cls.__jumlah\n",
        "\n",
        "sniper = Hero('sniper')\n",
        "# print(sniper.getJumlah())\n",
        "# print(Hero.getJumlah1())\n",
        "print(Hero.getJumlah2())\n",
        "rikimaru = Hero('rikimaru')\n",
        "print(rikimaru.getJumlah2())\n",
        "drowranger = Hero('drowranger')\n",
        "print(sniper.getJumlah3())"
      ]
    },
    {
      "cell_type": "code",
      "execution_count": 73,
      "metadata": {},
      "outputs": [
        {
          "name": "stdout",
          "output_type": "stream",
          "text": [
            "mengubah info\n",
            "name sniper : \n",
            "\thealth: 100\n",
            "name dadang : \n",
            "\thealth: 100\n",
            "getter dan setter untuk __armor:\n",
            "10\n",
            "{'name': 'dadang', '_Hero__health': 100, '_Hero__armor': 10}\n",
            "50\n",
            "delete armor\n",
            "armor didelete\n",
            "{'name': 'dadang', '_Hero__health': 100, '_Hero__armor': None}\n"
          ]
        }
      ],
      "source": [
        "# getter dan setter\n",
        "\n",
        "class Hero:\n",
        "\n",
        "    def __init__(self, name, health, armor):\n",
        "        self.name = name\n",
        "        self.__health = health\n",
        "        self.__armor = armor\n",
        "        # self.info = \"name {} : \\n\\thealth: {}\".format(self.__name,self.__health)\n",
        "    \n",
        "    @property\n",
        "    def info(self):\n",
        "        return \"name {} : \\n\\thealth: {}\".format(self.name,self.__health)\n",
        "    \n",
        "    @property\n",
        "    def armor(self):\n",
        "        pass\n",
        "\n",
        "    @armor.getter\n",
        "    def armor(self):\n",
        "        return self.__armor\n",
        "    \n",
        "    @armor.setter\n",
        "    def armor(self, input):\n",
        "        self.__armor = input\n",
        "\n",
        "    @armor.deleter\n",
        "    def armor(self):\n",
        "        print('armor didelete')\n",
        "        self.__armor = None\n",
        "    \n",
        "sniper = Hero('sniper',100,10)\n",
        "\n",
        "print('mengubah info')\n",
        "print(sniper.info)\n",
        "sniper.name = 'dadang'\n",
        "print(sniper.info)\n",
        "\n",
        "print('getter dan setter untuk __armor:')\n",
        "print(sniper.armor)\n",
        "print(sniper.__dict__)\n",
        "sniper.armor = 50\n",
        "print(sniper.armor)\n",
        "\n",
        "print('delete armor')\n",
        "del sniper.armor\n",
        "print(sniper.__dict__)"
      ]
    },
    {
      "cell_type": "markdown",
      "metadata": {},
      "source": [
        "## Latihan Encapsulasi"
      ]
    },
    {
      "cell_type": "code",
      "execution_count": 3,
      "metadata": {},
      "outputs": [
        {
          "name": "stdout",
          "output_type": "stream",
          "text": [
            "slardar level 1 : \n",
            "\thealth = 100/100 \n",
            "\tattack = 5 \n",
            "\tarmor = 10\n",
            "slardar level up\n",
            "slardar level up\n",
            "slardar level 3 : \n",
            "\thealth = 100/300 \n",
            "\tattack = 15 \n",
            "\tarmor = 30\n"
          ]
        }
      ],
      "source": [
        "class Hero:\n",
        "\n",
        "    # private class variabel\n",
        "    __jumlah = 0\n",
        "\n",
        "    def __init__(self,name,health,attPower,armor):\n",
        "        self.__name = name\n",
        "        self.__healthStandar = health\n",
        "        self.__attackPowerStandar = attPower\n",
        "        self.__armorStandar = armor\n",
        "        self.__level = 1\n",
        "        self.__exp = 0\n",
        "\n",
        "        self.__healthMax = self.__healthStandar * self.__level\n",
        "        self.__attPower = self.__attackPowerStandar * self.__level\n",
        "        self.__armor = self.__armorStandar * self.__level\n",
        "\n",
        "        self.__health = self.__healthMax\n",
        "\n",
        "        Hero.__jumlah += 1\n",
        "\n",
        "    @property\n",
        "    def info(self):\n",
        "        return \"{} level {} : \\n\\thealth = {}/{} \\n\\tattack = {} \\n\\tarmor = {}\".format(self.__name,self.__level,self.__health,self.__healthMax,self.__attPower,self.__armor)\n",
        "    \n",
        "    @property\n",
        "    def gainExp(self):\n",
        "        pass\n",
        "\n",
        "    @gainExp.setter\n",
        "    def gainExp(self,addExp):\n",
        "        self.__exp += addExp\n",
        "        if (self.__exp >= 100):\n",
        "            print(self.__name, 'level up')\n",
        "            self.__level += 1\n",
        "            self.__exp -= 100\n",
        "\n",
        "            self.__healthMax = self.__healthStandar * self.__level\n",
        "            self.__attPower = self.__attackPowerStandar * self.__level\n",
        "            self.__armor = self.__armorStandar * self.__level\n",
        "    def attack(self,musuh):\n",
        "        self.gainExp = 50\n",
        "\n",
        "slardar = Hero('slardar',100,5,10)\n",
        "axe = Hero('axe',100,5,10)\n",
        "print(slardar.info)\n",
        "\n",
        "slardar.attack(axe)\n",
        "slardar.attack(axe)\n",
        "slardar.attack(axe)\n",
        "slardar.attack(axe)\n",
        "print(slardar.info)"
      ]
    },
    {
      "cell_type": "markdown",
      "metadata": {},
      "source": [
        "## Inheritance"
      ]
    },
    {
      "cell_type": "code",
      "execution_count": 1,
      "metadata": {},
      "outputs": [
        {
          "name": "stdout",
          "output_type": "stream",
          "text": [
            "lina\n",
            "{'name': 'techies', 'health': 50}\n",
            "axe\n"
          ]
        }
      ],
      "source": [
        "# pengenalan inheritance\n",
        "class Hero:\n",
        "    def __init__(self,name,health):\n",
        "        self.name = name\n",
        "        self.health = health\n",
        "\n",
        "class Hero_intelligent(Hero):\n",
        "    pass\n",
        "\n",
        "class Hero_strength(Hero):\n",
        "    pass\n",
        "\n",
        "lina = Hero('lina',100)\n",
        "techies = Hero_intelligent('techies',50)\n",
        "axe = Hero_strength('axe',200)\n",
        "\n",
        "print(lina.name)\n",
        "print(techies.__dict__)\n",
        "print(axe.name)"
      ]
    },
    {
      "cell_type": "code",
      "execution_count": 2,
      "metadata": {},
      "outputs": [
        {
          "name": "stdout",
          "output_type": "stream",
          "text": [
            "lina dengan health: 100\n",
            "axe dengan health: 200\n",
            "lina   100\n",
            "axe   200\n"
          ]
        }
      ],
      "source": [
        "# Super untuk inheritance\n",
        "\n",
        "class Hero:\n",
        "    def __init__(self,name,health):\n",
        "        self.name = name\n",
        "        self.health = health\n",
        "    \n",
        "    def showInfo(self):\n",
        "        print (\"{} dengan health: {}\".format(self.name, self.health))\n",
        "\n",
        "class Hero_intelligent(Hero):\n",
        "    def __init__(self,name):\n",
        "        #Hero.__init__(self,name,100)\n",
        "        super().__init__(name,100)\n",
        "        super().showInfo()\n",
        "\n",
        "class Hero_strength(Hero):\n",
        "    def __init__(self,name):\n",
        "        super().__init__(name,200) \n",
        "        super().showInfo()\n",
        "\n",
        "lina = Hero_intelligent('lina')\n",
        "axe = Hero_strength('axe')\n",
        "\n",
        "print(lina.name , \" \" , lina.health)\n",
        "print(axe.name , \" \" , axe.health)"
      ]
    },
    {
      "cell_type": "code",
      "execution_count": 4,
      "metadata": {},
      "outputs": [
        {
          "name": "stdout",
          "output_type": "stream",
          "text": [
            "Hello\n"
          ]
        }
      ],
      "source": [
        "print(\"Hello Ha\")"
      ]
    }
  ],
  "metadata": {
    "colab": {
      "authorship_tag": "ABX9TyMyCp1UZ+ArPqx6gedUXOv2",
      "include_colab_link": true,
      "provenance": []
    },
    "kernelspec": {
      "display_name": "Python 3",
      "name": "python3"
    },
    "language_info": {
      "codemirror_mode": {
        "name": "ipython",
        "version": 3
      },
      "file_extension": ".py",
      "mimetype": "text/x-python",
      "name": "python",
      "nbconvert_exporter": "python",
      "pygments_lexer": "ipython3",
      "version": "3.10.12"
    }
  },
  "nbformat": 4,
  "nbformat_minor": 0
}
