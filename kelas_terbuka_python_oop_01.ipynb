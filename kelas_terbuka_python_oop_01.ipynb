{
  "cells": [
    {
      "cell_type": "markdown",
      "metadata": {
        "colab_type": "text",
        "id": "view-in-github"
      },
      "source": [
        "<a href=\"https://colab.research.google.com/github/danielhendra0046/kelas-terbuka-python-oop/blob/main/kelas_terbuka_python_oop_01.ipynb\" target=\"_parent\"><img src=\"https://colab.research.google.com/assets/colab-badge.svg\" alt=\"Open In Colab\"/></a>"
      ]
    },
    {
      "cell_type": "markdown",
      "metadata": {},
      "source": [
        "# 15 NOVEMBER 2023"
      ]
    },
    {
      "cell_type": "markdown",
      "metadata": {},
      "source": [
        "## Method Resolution Order"
      ]
    },
    {
      "cell_type": "code",
      "execution_count": 5,
      "metadata": {},
      "outputs": [
        {
          "name": "stdout",
          "output_type": "stream",
          "text": [
            "Ini adalah show B\n",
            "Help on C in module __main__ object:\n",
            "\n",
            "class C(B, A)\n",
            " |  Method resolution order:\n",
            " |      C\n",
            " |      B\n",
            " |      A\n",
            " |      builtins.object\n",
            " |  \n",
            " |  Methods inherited from B:\n",
            " |  \n",
            " |  show(self)\n",
            " |  \n",
            " |  ----------------------------------------------------------------------\n",
            " |  Data descriptors inherited from B:\n",
            " |  \n",
            " |  __dict__\n",
            " |      dictionary for instance variables (if defined)\n",
            " |  \n",
            " |  __weakref__\n",
            " |      list of weak references to the object (if defined)\n",
            "\n"
          ]
        }
      ],
      "source": [
        "class A:\n",
        "    \n",
        "    def show(self):\n",
        "        print(\"Ini adalah show A\")\n",
        "\n",
        "class B:\n",
        "    \n",
        "    def show(self):\n",
        "        print(\"Ini adalah show B\")\n",
        "\n",
        "class C(B,A):\n",
        "    pass\n",
        "\n",
        "objek = C()\n",
        "objek.show()\n",
        "help(objek)\n"
      ]
    },
    {
      "cell_type": "code",
      "execution_count": 10,
      "metadata": {},
      "outputs": [
        {
          "name": "stdout",
          "output_type": "stream",
          "text": [
            "ini adalah show A\n",
            "Help on D in module __main__ object:\n",
            "\n",
            "class D(B, C)\n",
            " |  Method resolution order:\n",
            " |      D\n",
            " |      B\n",
            " |      C\n",
            " |      A\n",
            " |      builtins.object\n",
            " |  \n",
            " |  Methods inherited from A:\n",
            " |  \n",
            " |  show(self)\n",
            " |  \n",
            " |  ----------------------------------------------------------------------\n",
            " |  Data descriptors inherited from A:\n",
            " |  \n",
            " |  __dict__\n",
            " |      dictionary for instance variables (if defined)\n",
            " |  \n",
            " |  __weakref__\n",
            " |      list of weak references to the object (if defined)\n",
            "\n"
          ]
        }
      ],
      "source": [
        "# Diamond Problem\n",
        "\n",
        "class A:\n",
        "    \n",
        "    def show(self):\n",
        "        print(\"ini adalah show A\")\n",
        "\n",
        "class B(A):\n",
        "    \n",
        "    pass\n",
        "\n",
        "class C(A):\n",
        "    \n",
        "    pass\n",
        "\n",
        "class D(B,C):\n",
        "    pass\n",
        "\n",
        "objek = D()\n",
        "objek.show()\n",
        "help(objek)"
      ]
    }
  ],
  "metadata": {
    "colab": {
      "authorship_tag": "ABX9TyMyCp1UZ+ArPqx6gedUXOv2",
      "include_colab_link": true,
      "provenance": []
    },
    "kernelspec": {
      "display_name": "Python 3",
      "name": "python3"
    },
    "language_info": {
      "codemirror_mode": {
        "name": "ipython",
        "version": 3
      },
      "file_extension": ".py",
      "mimetype": "text/x-python",
      "name": "python",
      "nbconvert_exporter": "python",
      "pygments_lexer": "ipython3",
      "version": "3.11.6"
    }
  },
  "nbformat": 4,
  "nbformat_minor": 0
}
