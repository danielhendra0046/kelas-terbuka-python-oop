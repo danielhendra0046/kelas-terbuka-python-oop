{
  "cells": [
    {
      "cell_type": "markdown",
      "metadata": {
        "colab_type": "text",
        "id": "view-in-github"
      },
      "source": [
        "<a href=\"https://colab.research.google.com/github/danielhendra0046/kelas-terbuka-python-oop/blob/main/kelas_terbuka_python_oop_01.ipynb\" target=\"_parent\"><img src=\"https://colab.research.google.com/assets/colab-badge.svg\" alt=\"Open In Colab\"/></a>"
      ]
    },
    {
      "cell_type": "markdown",
      "metadata": {},
      "source": [
        "# 15 NOVEMBER 2023"
      ]
    },
    {
      "cell_type": "markdown",
      "metadata": {},
      "source": [
        "## Method Resolution Order"
      ]
    },
    {
      "cell_type": "code",
      "execution_count": 5,
      "metadata": {},
      "outputs": [
        {
          "name": "stdout",
          "output_type": "stream",
          "text": [
            "Ini adalah show B\n",
            "Help on C in module __main__ object:\n",
            "\n",
            "class C(B, A)\n",
            " |  Method resolution order:\n",
            " |      C\n",
            " |      B\n",
            " |      A\n",
            " |      builtins.object\n",
            " |  \n",
            " |  Methods inherited from B:\n",
            " |  \n",
            " |  show(self)\n",
            " |  \n",
            " |  ----------------------------------------------------------------------\n",
            " |  Data descriptors inherited from B:\n",
            " |  \n",
            " |  __dict__\n",
            " |      dictionary for instance variables (if defined)\n",
            " |  \n",
            " |  __weakref__\n",
            " |      list of weak references to the object (if defined)\n",
            "\n"
          ]
        }
      ],
      "source": [
        "class A:\n",
        "    \n",
        "    def show(self):\n",
        "        print(\"Ini adalah show A\")\n",
        "\n",
        "class B:\n",
        "    \n",
        "    def show(self):\n",
        "        print(\"Ini adalah show B\")\n",
        "\n",
        "class C(B,A):\n",
        "    pass\n",
        "\n",
        "objek = C()\n",
        "objek.show()\n",
        "help(objek)\n"
      ]
    },
    {
      "cell_type": "code",
      "execution_count": 10,
      "metadata": {},
      "outputs": [
        {
          "name": "stdout",
          "output_type": "stream",
          "text": [
            "ini adalah show A\n",
            "Help on D in module __main__ object:\n",
            "\n",
            "class D(B, C)\n",
            " |  Method resolution order:\n",
            " |      D\n",
            " |      B\n",
            " |      C\n",
            " |      A\n",
            " |      builtins.object\n",
            " |  \n",
            " |  Methods inherited from A:\n",
            " |  \n",
            " |  show(self)\n",
            " |  \n",
            " |  ----------------------------------------------------------------------\n",
            " |  Data descriptors inherited from A:\n",
            " |  \n",
            " |  __dict__\n",
            " |      dictionary for instance variables (if defined)\n",
            " |  \n",
            " |  __weakref__\n",
            " |      list of weak references to the object (if defined)\n",
            "\n"
          ]
        }
      ],
      "source": [
        "# Diamond Problem\n",
        "\n",
        "class A:\n",
        "    \n",
        "    def show(self):\n",
        "        print(\"ini adalah show A\")\n",
        "\n",
        "class B(A):\n",
        "    \n",
        "    pass\n",
        "\n",
        "class C(A):\n",
        "    \n",
        "    pass\n",
        "\n",
        "class D(B,C):\n",
        "    pass\n",
        "\n",
        "objek = D()\n",
        "objek.show()\n",
        "help(objek)"
      ]
    },
    {
      "cell_type": "code",
      "execution_count": 22,
      "metadata": {},
      "outputs": [
        {
          "name": "stdout",
          "output_type": "stream",
          "text": [
            "Mangga: arumanis dengan jumlah: 10\n",
            "Mangga: mana lagi dengan jumlah: 5\n",
            "15\n",
            "objek ini mempunyai nama dan jumlah\n"
          ]
        }
      ],
      "source": [
        "# Magic Method\n",
        "\n",
        "class Mangga:\n",
        "    \n",
        "    #magicmethod\n",
        "    def __init__(self,nama,jumlah):\n",
        "        self.nama = nama\n",
        "        self.jumlah = jumlah\n",
        "\n",
        "    # dipakai saat debugging\n",
        "    # def __repr__(self):\n",
        "    #     return \"Mangga: {} dengan jumlah: {}\".format(self.nama,self.jumlah)\n",
        "    \n",
        "    # dipakai saat program sudah jadi\n",
        "    def __str__(self):\n",
        "        return \"Mangga: {} dengan jumlah: {}\".format(self.nama,self.jumlah)\n",
        "    \n",
        "    # dipakai untuk operasi aritmatika\n",
        "    def __add__(self, objek):\n",
        "        return self.jumlah + objek.jumlah\n",
        "    \n",
        "    @property\n",
        "    def __dict__(self):\n",
        "        return \"objek ini mempunyai nama dan jumlah\"\n",
        "\n",
        "belanja1 = Mangga(\"arumanis\",10)\n",
        "belanja2 = Mangga(\"mana lagi\",5)\n",
        "print(belanja1)\n",
        "print(belanja2)\n",
        "print(belanja1 + belanja2)\n",
        "print(belanja1.__dict__)"
      ]
    },
    {
      "cell_type": "code",
      "execution_count": 36,
      "metadata": {},
      "outputs": [
        {
          "name": "stdout",
          "output_type": "stream",
          "text": [
            "push button click\n",
            "radio buton click\n"
          ]
        }
      ],
      "source": [
        "# Class Abstract\n",
        "\n",
        "# abc = abstract base class\n",
        "from abc import ABC, abstractmethod\n",
        "\n",
        "class Button(ABC):\n",
        "\n",
        "    @abstractmethod\n",
        "    def click(self):\n",
        "        pass\n",
        "\n",
        "class PushButton(Button):\n",
        "    \n",
        "    def click(self):\n",
        "        print(\"push button click\")\n",
        "\n",
        "class RadioButton(Button):\n",
        "\n",
        "    def click(self):\n",
        "        print(\"radio buton click\")\n",
        "\n",
        "tombol1 = PushButton()\n",
        "tombol2 = RadioButton()\n",
        "\n",
        "tombol1.click()\n",
        "tombol2.click()"
      ]
    },
    {
      "cell_type": "code",
      "execution_count": 44,
      "metadata": {},
      "outputs": [
        {
          "name": "stdout",
          "output_type": "stream",
          "text": [
            "Go To: www.kelasterbuka.id\n"
          ]
        }
      ],
      "source": [
        "# Class Abstract dan Decorator\n",
        "\n",
        "from abc import ABC,abstractmethod\n",
        "\n",
        "class Button(ABC):\n",
        "\n",
        "    def __init__(self,set_link):\n",
        "        self.link = set_link\n",
        "\n",
        "    @abstractmethod\n",
        "    def click(self):\n",
        "        pass\n",
        "    \n",
        "    @property\n",
        "    @abstractmethod\n",
        "    def link(self):\n",
        "        pass\n",
        "\n",
        "class PushButton(Button):\n",
        "\n",
        "    def click(self):\n",
        "        print(\"Go To: {}\".format(self.link))\n",
        "\n",
        "\n",
        "    @Button.link.setter\n",
        "    def link(self,input):\n",
        "        self.__link = input\n",
        "\n",
        "    @link.getter\n",
        "    def link(self):\n",
        "        return self.__link\n",
        "\n",
        "tombol1 = PushButton(\"www.kelasterbuka.id\")\n",
        "tombol1.click()"
      ]
    }
  ],
  "metadata": {
    "colab": {
      "authorship_tag": "ABX9TyMyCp1UZ+ArPqx6gedUXOv2",
      "include_colab_link": true,
      "provenance": []
    },
    "kernelspec": {
      "display_name": "Python 3",
      "name": "python3"
    },
    "language_info": {
      "codemirror_mode": {
        "name": "ipython",
        "version": 3
      },
      "file_extension": ".py",
      "mimetype": "text/x-python",
      "name": "python",
      "nbconvert_exporter": "python",
      "pygments_lexer": "ipython3",
      "version": "3.11.6"
    }
  },
  "nbformat": 4,
  "nbformat_minor": 0
}
